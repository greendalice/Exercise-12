{
 "cells": [
  {
   "cell_type": "markdown",
   "id": "7a3e5fa5-9cf4-40a1-802f-40f15aac0513",
   "metadata": {},
   "source": [
    "<Data Science Tools and Ecosystem>"
   ]
  },
  {
   "cell_type": "markdown",
   "id": "7fa6a8ae-ca0b-4f4f-944b-b91c7f717d08",
   "metadata": {},
   "source": [
    "# Data Science Tools and Ecosystem"
   ]
  },
  {
   "cell_type": "markdown",
   "id": "0381cf00-6f4f-4c05-937f-4ac3dd977734",
   "metadata": {},
   "source": [
    "In this notebook, Data Science Tools and Ecosystem are summarized."
   ]
  },
  {
   "cell_type": "markdown",
   "id": "582006fa-497f-47b5-923e-feb3e3520961",
   "metadata": {},
   "source": [
    "Some of the popular languages that Data Scientists use are:\n",
    "1. Python\n",
    "2. R\n",
    "3. SQL (Structured Query Language) "
   ]
  },
  {
   "cell_type": "markdown",
   "id": "606421e4-cb72-4123-969f-8ae3ab37e2f1",
   "metadata": {},
   "source": [
    "Some of the commonly used libraries used by Data Scientists include:\n",
    "1. Numpy\n",
    "2. Pandas\n",
    "3. Matplotlib"
   ]
  },
  {
   "cell_type": "markdown",
   "id": "f54030cc-20c0-48ea-bfa9-cf201ccd3761",
   "metadata": {},
   "source": [
    "| Data Science Tools |\n",
    "|:------------------:|\n",
    "| Apache Spark       |\n",
    "| RStudio            |\n",
    "| TensorFlow         |"
   ]
  },
  {
   "cell_type": "markdown",
   "id": "73f0edb5-221d-4984-a22e-4562ccfea4b7",
   "metadata": {},
   "source": [
    "### Below are a few examples of evaluating arithmetic expressions in Python."
   ]
  },
  {
   "cell_type": "code",
   "execution_count": 10,
   "id": "a84f9959-eb92-4ef8-9703-ec0928f60bd7",
   "metadata": {},
   "outputs": [
    {
     "data": {
      "text/plain": [
       "17"
      ]
     },
     "execution_count": 10,
     "metadata": {},
     "output_type": "execute_result"
    }
   ],
   "source": [
    "# This is a simple arithmetic expression to multiply then add integers.\n",
    "result = (3 * 4) + 5\n",
    "result"
   ]
  },
  {
   "cell_type": "code",
   "execution_count": 11,
   "id": "af5059f9-6fff-44a7-94a5-79d5d8f18c37",
   "metadata": {},
   "outputs": [
    {
     "data": {
      "text/plain": [
       "3.3333333333333335"
      ]
     },
     "execution_count": 11,
     "metadata": {},
     "output_type": "execute_result"
    }
   ],
   "source": [
    "# This will convert 200 minutes to hours by diving by 60.\n",
    "minutes = 200\n",
    "hours = minutes/60\n",
    "hours"
   ]
  },
  {
   "cell_type": "markdown",
   "id": "12c91a9d-f16e-4391-b245-ef848a27a82b",
   "metadata": {},
   "source": [
    "**Objectives:**\n",
    "\n",
    "- List popular languages for Data Science.\n",
    "- Identify commonly used libraries in Data Science.\n",
    "- Perform simple arithmetic operations in Python.\n",
    "- Convert minutes to hours using Python.\n",
    "- Demonstrate Markdown formatting for clear documentation."
   ]
  },
  {
   "cell_type": "markdown",
   "id": "340bf7ad-f33e-4c51-aa50-7d6e0fe72f9c",
   "metadata": {},
   "source": [
    "## Author\n",
    "Anh Mai Nguyen"
   ]
  }
 ],
 "metadata": {
  "kernelspec": {
   "display_name": "Python 3 (ipykernel)",
   "language": "python",
   "name": "python3"
  },
  "language_info": {
   "codemirror_mode": {
    "name": "ipython",
    "version": 3
   },
   "file_extension": ".py",
   "mimetype": "text/x-python",
   "name": "python",
   "nbconvert_exporter": "python",
   "pygments_lexer": "ipython3",
   "version": "3.10.9"
  }
 },
 "nbformat": 4,
 "nbformat_minor": 5
}
